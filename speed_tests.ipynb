{
 "nbformat": 4,
 "nbformat_minor": 0,
 "metadata": {
  "colab": {
   "provenance": [],
   "authorship_tag": "ABX9TyM2Fzc7ty4IOTXhzXGA+yF/"
  },
  "kernelspec": {
   "name": "python3",
   "language": "python",
   "display_name": "Python 3 (ipykernel)"
  },
  "language_info": {
   "name": "python"
  }
 },
 "cells": [
  {
   "cell_type": "code",
   "execution_count": 1,
   "metadata": {
    "id": "Kwz0U9lMfV1H",
    "executionInfo": {
     "status": "ok",
     "timestamp": 1691076082041,
     "user_tz": -120,
     "elapsed": 868,
     "user": {
      "displayName": "Philipp Landwehr",
      "userId": "00824115161024449427"
     }
    },
    "ExecuteTime": {
     "end_time": "2023-08-05T18:49:20.936639Z",
     "start_time": "2023-08-05T18:49:20.683315Z"
    }
   },
   "outputs": [],
   "source": [
    "import numpy as np"
   ]
  },
  {
   "cell_type": "code",
   "source": [
    "def brutal_sum(phi_arr):\n",
    "    Phi_arr = np.zeros(len(phi_arr))\n",
    "    for i, elt in enumerate(phi_arr):\n",
    "        Phi_arr[i] = sum(phi_arr[0:i])\n",
    "    return Phi_arr\n",
    "\n",
    "def partial_sum(phi_arr):\n",
    "    Phi_arr = np.zeros(len(phi_arr))\n",
    "    for i, elt in enumerate(phi_arr):\n",
    "        Phi_arr[i] = Phi_arr[i-1] + elt  # phi_arr[i]\n",
    "    Phi_arr = np.roll(Phi_arr, 1)\n",
    "    Phi_arr[0] = 0\n",
    "    # Phi_arr[1] = phi_arr[0]\n",
    "    return Phi_arr"
   ],
   "metadata": {
    "id": "sllL-lhzff59",
    "executionInfo": {
     "status": "ok",
     "timestamp": 1691076083698,
     "user_tz": -120,
     "elapsed": 3,
     "user": {
      "displayName": "Philipp Landwehr",
      "userId": "00824115161024449427"
     }
    },
    "ExecuteTime": {
     "end_time": "2023-08-05T18:49:20.951007Z",
     "start_time": "2023-08-05T18:49:20.947794Z"
    }
   },
   "execution_count": 2,
   "outputs": []
  },
  {
   "cell_type": "code",
   "source": [
    "arr = np.random.randint(0, 1000, 500)"
   ],
   "metadata": {
    "colab": {
     "base_uri": "https://localhost:8080/"
    },
    "id": "g7EDoMZkfg0z",
    "executionInfo": {
     "status": "ok",
     "timestamp": 1691076086192,
     "user_tz": -120,
     "elapsed": 811,
     "user": {
      "displayName": "Philipp Landwehr",
      "userId": "00824115161024449427"
     }
    },
    "outputId": "23fca293-00e4-4092-efe3-e6effb1a9406",
    "ExecuteTime": {
     "end_time": "2023-08-05T18:49:39.219196Z",
     "start_time": "2023-08-05T18:49:39.165175Z"
    }
   },
   "execution_count": 3,
   "outputs": []
  },
  {
   "cell_type": "code",
   "source": [
    "%timeit brutal_sum(arr)"
   ],
   "metadata": {
    "colab": {
     "base_uri": "https://localhost:8080/",
     "height": 389
    },
    "id": "OHDCZgc_f5M9",
    "executionInfo": {
     "status": "error",
     "timestamp": 1691077183591,
     "user_tz": -120,
     "elapsed": 115598,
     "user": {
      "displayName": "Philipp Landwehr",
      "userId": "00824115161024449427"
     }
    },
    "outputId": "1955faf6-fae1-4a57-d487-e945a85fe6a0",
    "ExecuteTime": {
     "end_time": "2023-08-05T18:49:44.654412Z",
     "start_time": "2023-08-05T18:49:42.153542Z"
    }
   },
   "execution_count": 4,
   "outputs": [
    {
     "name": "stdout",
     "output_type": "stream",
     "text": [
      "24.8 ms ± 11.2 ms per loop (mean ± std. dev. of 7 runs, 10 loops each)\n"
     ]
    }
   ]
  },
  {
   "cell_type": "code",
   "source": [
    "%timeit partial_sum(arr)"
   ],
   "metadata": {
    "colab": {
     "base_uri": "https://localhost:8080/"
    },
    "id": "zxYBDdRbf-ol",
    "executionInfo": {
     "status": "ok",
     "timestamp": 1691077199205,
     "user_tz": -120,
     "elapsed": 4801,
     "user": {
      "displayName": "Philipp Landwehr",
      "userId": "00824115161024449427"
     }
    },
    "outputId": "eb114afb-004c-4d45-8eca-a3be00f997cd",
    "ExecuteTime": {
     "end_time": "2023-08-05T18:49:47.271720Z",
     "start_time": "2023-08-05T18:49:44.629556Z"
    }
   },
   "execution_count": 5,
   "outputs": [
    {
     "name": "stdout",
     "output_type": "stream",
     "text": [
      "354 µs ± 62.6 µs per loop (mean ± std. dev. of 7 runs, 1,000 loops each)\n"
     ]
    }
   ]
  },
  {
   "cell_type": "code",
   "source": [
    "(brutal_sum(arr) == partial_sum(arr)).all()"
   ],
   "metadata": {
    "colab": {
     "base_uri": "https://localhost:8080/"
    },
    "id": "q0q0qZsQgOqb",
    "executionInfo": {
     "status": "ok",
     "timestamp": 1691018914020,
     "user_tz": -120,
     "elapsed": 1221,
     "user": {
      "displayName": "Philipp Landwehr",
      "userId": "00824115161024449427"
     }
    },
    "outputId": "3dbe8061-7920-469f-b799-2eadd620eac0",
    "ExecuteTime": {
     "end_time": "2023-08-05T18:49:47.326604Z",
     "start_time": "2023-08-05T18:49:47.272216Z"
    }
   },
   "execution_count": 6,
   "outputs": [
    {
     "data": {
      "text/plain": "True"
     },
     "execution_count": 6,
     "metadata": {},
     "output_type": "execute_result"
    }
   ]
  }
 ]
}
